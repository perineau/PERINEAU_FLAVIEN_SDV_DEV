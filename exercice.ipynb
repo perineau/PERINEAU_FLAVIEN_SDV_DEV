{
 "cells": [
  {
   "cell_type": "code",
   "execution_count": null,
   "id": "regional-pavilion",
   "metadata": {},
   "outputs": [],
   "source": [
    "import pandas as pd\n",
    "\n",
    "market = pd.read_csv(\"mower_market_snapshot.csv\", sep = \";\")\n",
    "\n",
    "# market.describe()\n",
    "# 1\n",
    "market"
   ]
  },
  {
   "cell_type": "code",
   "execution_count": null,
   "id": "comic-apache",
   "metadata": {},
   "outputs": [],
   "source": [
    "# 2\n",
    "display(market.loc[:5])\n",
    "display(market.sort_values(by = 'attractiveness', ascending=False))\n",
    "display(market.sort_values(by = 'price', ascending=False).head(10))"
   ]
  },
  {
   "cell_type": "code",
   "execution_count": null,
   "id": "rotary-analysis",
   "metadata": {},
   "outputs": [],
   "source": [
    "# 3\n",
    "values = pd.to_numeric(market[\"prod_cost\"], errors=\"coerce\")\n",
    "display(market[values < 0])\n",
    "display(market[values.isna()])"
   ]
  },
  {
   "cell_type": "code",
   "execution_count": null,
   "id": "endangered-chair",
   "metadata": {},
   "outputs": [],
   "source": [
    "# 4\n",
    "# filtre = market.map\n",
    "null_value = pd.isnull(market)\n",
    "display(null_value.sum())"
   ]
  },
  {
   "cell_type": "code",
   "execution_count": null,
   "id": "growing-question",
   "metadata": {},
   "outputs": [],
   "source": [
    "# 5\n",
    "# display(market.apply(lambda x: x.fillna(x.mean()),axis=0))"
   ]
  },
  {
   "cell_type": "code",
   "execution_count": null,
   "id": "satellite-minutes",
   "metadata": {},
   "outputs": [],
   "source": [
    "# 6 \n",
    "display(market[\"warranty\"].unique())"
   ]
  },
  {
   "cell_type": "code",
   "execution_count": null,
   "id": "sufficient-playback",
   "metadata": {},
   "outputs": [],
   "source": [
    "# 7/8 \n",
    "warranty = market.copy()\n",
    "warranty[\"warranty\"] = warranty[\"warranty\"].replace({r'^(\\d).*$' : r'\\1'}, regex=True)\n",
    "display(warranty[\"warranty\"].unique())"
   ]
  },
  {
   "cell_type": "code",
   "execution_count": null,
   "id": "concerned-vancouver",
   "metadata": {},
   "outputs": [],
   "source": [
    "# 9\n",
    "import math \n",
    "market.groupby(pd.cut(market[\"price\"], [0, 300, 500, math.inf]))['price'].sum()"
   ]
  },
  {
   "cell_type": "code",
   "execution_count": null,
   "id": "martial-diploma",
   "metadata": {},
   "outputs": [],
   "source": [
    "# 10\n",
    "\n",
    "i=1\n",
    "replace = {}\n",
    "for elem in market[\"product_type\"].unique():\n",
    "    replace[elem] = i\n",
    "    i+=1\n",
    "product_type = market.copy()\n",
    "product_type[\"product_type\"] = product_type[\"product_type\"].replace(replace)\n",
    "display(product_type[\"product_type\"].unique())"
   ]
  },
  {
   "cell_type": "code",
   "execution_count": null,
   "id": "pregnant-hobby",
   "metadata": {},
   "outputs": [],
   "source": [
    "# 11\n",
    "\n",
    "element = []\n",
    "product_type_bin = market.copy()\n",
    "for elem in market[\"product_type\"].unique():\n",
    "    element.append(elem)\n",
    "    product_type_bin[elem] = product_type_bin[\"product_type\"] == elem\n",
    "    \n",
    "display(product_type_bin[element])"
   ]
  },
  {
   "cell_type": "code",
   "execution_count": null,
   "id": "alone-terminology",
   "metadata": {},
   "outputs": [],
   "source": []
  }
 ],
 "metadata": {
  "kernelspec": {
   "display_name": "Python 3",
   "language": "python",
   "name": "python3"
  },
  "language_info": {
   "codemirror_mode": {
    "name": "ipython",
    "version": 3
   },
   "file_extension": ".py",
   "mimetype": "text/x-python",
   "name": "python",
   "nbconvert_exporter": "python",
   "pygments_lexer": "ipython3",
   "version": "3.8.8"
  }
 },
 "nbformat": 4,
 "nbformat_minor": 5
}
