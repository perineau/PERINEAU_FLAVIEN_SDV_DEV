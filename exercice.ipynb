{
 "cells": [
  {
   "cell_type": "code",
   "execution_count": null,
   "id": "regional-pavilion",
   "metadata": {
    "scrolled": true
   },
   "outputs": [],
   "source": [
    "import pandas as pd\n",
    "\n",
    "market = pd.read_csv(\"mower_market_snapshot.csv\", sep = \";\")\n",
    "\n",
    "# market.describe()\n",
    "# 1\n",
    "market"
   ]
  },
  {
   "cell_type": "code",
   "execution_count": null,
   "id": "comic-apache",
   "metadata": {
    "scrolled": true
   },
   "outputs": [],
   "source": [
    "# 2\n",
    "display(market.loc[:5])\n",
    "display(market.sort_values(by = \"attractiveness\", ascending=False))\n",
    "display(market.sort_values(by = \"price\", ascending=False).head(10))"
   ]
  },
  {
   "cell_type": "code",
   "execution_count": null,
   "id": "rotary-analysis",
   "metadata": {
    "scrolled": true
   },
   "outputs": [],
   "source": [
    "# 3\n",
    "def weardValue(dataframe, column):\n",
    "    values = pd.to_numeric(dataframe[column], errors=\"coerce\")\n",
    "    return dataframe[values.isna()].append(dataframe[values < 0])\n",
    "weardValue(market,\"prod_cost\")"
   ]
  },
  {
   "cell_type": "code",
   "execution_count": null,
   "id": "endangered-chair",
   "metadata": {
    "scrolled": true
   },
   "outputs": [],
   "source": [
    "# 4\n",
    "# filtre = market.map\n",
    "def null_values(dataframe):\n",
    "    return pd.isnull(dataframe)\n",
    "display(null_values(market).sum())"
   ]
  },
  {
   "cell_type": "code",
   "execution_count": null,
   "id": "growing-question",
   "metadata": {
    "scrolled": true
   },
   "outputs": [],
   "source": [
    "# 5\n",
    "def replaceWithMean(dataframe):\n",
    "    copy = dataframe.copy()\n",
    "    for col in dataframe.columns:\n",
    "        mean = pd.to_numeric(copy[col] , errors=\"coerce\").mean()\n",
    "        copy[col] = copy[col].fillna(mean)\n",
    "    return copy\n",
    "display(type(market[\"price\"]))\n",
    "display(replaceWithMean(market).loc[107])\n",
    "display(null_values(replaceWithMean(market)).sum())"
   ]
  },
  {
   "cell_type": "code",
   "execution_count": null,
   "id": "satellite-minutes",
   "metadata": {
    "scrolled": true
   },
   "outputs": [],
   "source": [
    "# 6\n",
    "def getAllValue(dataframe, column):\n",
    "    return dataframe[column].unique()\n",
    "display(getAllValue(market, \"warranty\"))"
   ]
  },
  {
   "cell_type": "code",
   "execution_count": null,
   "id": "sufficient-playback",
   "metadata": {
    "scrolled": true
   },
   "outputs": [],
   "source": [
    "# 7/8 \n",
    "def replaceStrToInt(dataframe, column, regex):\n",
    "    dataframe_copy = dataframe.copy()\n",
    "    dataframe_copy[column] = dataframe_copy[column].replace({regex : r\"\\1\"}, regex=True)\n",
    "    return dataframe_copy\n",
    "display(replaceStrToInt(market, \"warranty\", r\"(\\d).*\")[\"warranty\"].unique())"
   ]
  },
  {
   "cell_type": "code",
   "execution_count": null,
   "id": "concerned-vancouver",
   "metadata": {
    "scrolled": true
   },
   "outputs": [],
   "source": [
    "# 9\n",
    "def groupBy(dataframe, column, groups):\n",
    "    import math\n",
    "    return dataframe.groupby(pd.cut(dataframe[column], groups))\n",
    "display(groupBy(market, \"price\", [0, 300, 500, math.inf])['price'].sum())"
   ]
  },
  {
   "cell_type": "code",
   "execution_count": null,
   "id": "martial-diploma",
   "metadata": {
    "scrolled": true
   },
   "outputs": [],
   "source": [
    "# 10\n",
    "def elementToInt(dataframe, column):\n",
    "    i=1\n",
    "    replace = {}\n",
    "    for elem in dataframe[column].unique():\n",
    "        replace[elem] = i\n",
    "        i+=1\n",
    "    return replace\n",
    "\n",
    "def replaceWithMap(dataframe, column, mapping):\n",
    "    copy = dataframe.copy()\n",
    "    copy[column] = copy[column].replace(mapping)\n",
    "    return copy\n",
    "column = \"product_type\"\n",
    "element = elementToInt(market, column)\n",
    "\n",
    "display(replaceWithMap(market, column, element)[\"product_type\"].unique())"
   ]
  },
  {
   "cell_type": "code",
   "execution_count": null,
   "id": "pregnant-hobby",
   "metadata": {
    "scrolled": true
   },
   "outputs": [],
   "source": [
    "# 11\n",
    "\n",
    "def cellToColumn(dataframe, column):\n",
    "    element = []\n",
    "    copy = dataframe.copy()\n",
    "    for elem in market[column].unique():\n",
    "        element.append(elem)\n",
    "        copy[elem] = copy[column] == elem\n",
    "    return copy[element]\n",
    "    \n",
    "display(cellToColumn(market ,\"product_type\"))"
   ]
  },
  {
   "cell_type": "code",
   "execution_count": null,
   "id": "alone-terminology",
   "metadata": {
    "scrolled": true
   },
   "outputs": [],
   "source": [
    "mean = {}\n",
    "for col in market.columns:\n",
    "    mean[col] = pd.to_numeric(market[col] , errors=\"coerce\").mean()\n",
    "fill_nan = market.copy()\n",
    "\n",
    "display(mean)\n",
    "display(fill_nan[fill_nan.notnull()].apply(lambda x: mean[x.name]))\n",
    "display(fill_nan.apply(lambda x: x.index + mean[x.name]))"
   ]
  },
  {
   "cell_type": "code",
   "execution_count": null,
   "id": "subsequent-european",
   "metadata": {
    "scrolled": true
   },
   "outputs": [],
   "source": []
  }
 ],
 "metadata": {
  "kernelspec": {
   "display_name": "Python 3",
   "language": "python",
   "name": "python3"
  },
  "language_info": {
   "codemirror_mode": {
    "name": "ipython",
    "version": 3
   },
   "file_extension": ".py",
   "mimetype": "text/x-python",
   "name": "python",
   "nbconvert_exporter": "python",
   "pygments_lexer": "ipython3",
   "version": "3.8.8"
  }
 },
 "nbformat": 4,
 "nbformat_minor": 5
}
